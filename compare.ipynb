{
 "cells": [
  {
   "cell_type": "code",
   "execution_count": 1,
   "metadata": {},
   "outputs": [],
   "source": [
    "import tensorflow as tf\n",
    "import numpy as np\n",
    "\n",
    "from tensorflow.keras import datasets, layers, models\n",
    "import matplotlib.pyplot as plt"
   ]
  },
  {
   "cell_type": "markdown",
   "metadata": {},
   "source": [
    "To make the task more challenging, I choose cifar100 dataset, which has 100 classes and is much harder than mnist or cifar10."
   ]
  },
  {
   "cell_type": "code",
   "execution_count": 2,
   "metadata": {},
   "outputs": [
    {
     "data": {
      "text/plain": [
       "(50000, 32, 32, 3)"
      ]
     },
     "execution_count": 2,
     "metadata": {},
     "output_type": "execute_result"
    }
   ],
   "source": [
    "(train_images, train_labels), (test_images, test_labels) = datasets.cifar100.load_data()\n",
    "\n",
    "# train_images = np.expand_dims(train_images, -1).astype(np.float16)\n",
    "# test_images = np.expand_dims(test_images, -1).astype(np.float16)\n",
    "\n",
    "# Normalize pixel values to be between 0 and 1\n",
    "train_images, test_images = train_images / 255.0, test_images / 255.0\n",
    "train_images.shape"
   ]
  },
  {
   "cell_type": "markdown",
   "metadata": {},
   "source": [
    "The same neural network model as it in ImageClassifier.ipynb"
   ]
  },
  {
   "cell_type": "code",
   "execution_count": 3,
   "metadata": {},
   "outputs": [],
   "source": [
    "model = models.Sequential()\n",
    "model.add(layers.Conv2D(32, (3, 3), activation='relu', input_shape=(32, 32, 3)))\n",
    "model.add(layers.MaxPooling2D((2, 2)))\n",
    "model.add(layers.Conv2D(64, (3, 3), activation='relu'))\n",
    "model.add(layers.MaxPooling2D((2, 2)))\n",
    "model.add(layers.Conv2D(64, (3, 3), activation='relu'))\n",
    "model.add(layers.Flatten())\n",
    "model.add(layers.Dense(64, activation='relu'))\n",
    "model.add(layers.Dense(100))"
   ]
  },
  {
   "cell_type": "markdown",
   "metadata": {},
   "source": [
    "Apparently there is a gap between train accuracy and test accuracy.\n",
    "\n",
    "The reason why the gap happens is that overfitting. The model fits too well to the training set while ignoring other datasets such as test dataset."
   ]
  },
  {
   "cell_type": "code",
   "execution_count": 4,
   "metadata": {},
   "outputs": [
    {
     "name": "stdout",
     "output_type": "stream",
     "text": [
      "Epoch 1/30\n",
      "1563/1563 [==============================] - 12s 5ms/step - loss: 4.0159 - accuracy: 0.0798 - val_loss: 3.5763 - val_accuracy: 0.1495\n",
      "Epoch 2/30\n",
      "1563/1563 [==============================] - 7s 5ms/step - loss: 3.3834 - accuracy: 0.1841 - val_loss: 3.2482 - val_accuracy: 0.2134\n",
      "Epoch 3/30\n",
      "1563/1563 [==============================] - 7s 5ms/step - loss: 3.0948 - accuracy: 0.2370 - val_loss: 3.0176 - val_accuracy: 0.2586\n",
      "Epoch 4/30\n",
      "1563/1563 [==============================] - 7s 5ms/step - loss: 2.9071 - accuracy: 0.2758 - val_loss: 2.9022 - val_accuracy: 0.2828\n",
      "Epoch 5/30\n",
      "1563/1563 [==============================] - 7s 5ms/step - loss: 2.7713 - accuracy: 0.3020 - val_loss: 2.7945 - val_accuracy: 0.3059\n",
      "Epoch 6/30\n",
      "1563/1563 [==============================] - 7s 5ms/step - loss: 2.6620 - accuracy: 0.3245 - val_loss: 2.7464 - val_accuracy: 0.3166\n",
      "Epoch 7/30\n",
      "1563/1563 [==============================] - 7s 5ms/step - loss: 2.5687 - accuracy: 0.3441 - val_loss: 2.7283 - val_accuracy: 0.3257\n",
      "Epoch 8/30\n",
      "1563/1563 [==============================] - 7s 5ms/step - loss: 2.4958 - accuracy: 0.3592 - val_loss: 2.6789 - val_accuracy: 0.3324\n",
      "Epoch 9/30\n",
      "1563/1563 [==============================] - 7s 5ms/step - loss: 2.4240 - accuracy: 0.3742 - val_loss: 2.7123 - val_accuracy: 0.3233\n",
      "Epoch 10/30\n",
      "1563/1563 [==============================] - 7s 5ms/step - loss: 2.3621 - accuracy: 0.3862 - val_loss: 2.6136 - val_accuracy: 0.3443\n",
      "Epoch 11/30\n",
      "1563/1563 [==============================] - 7s 5ms/step - loss: 2.3033 - accuracy: 0.3981 - val_loss: 2.5855 - val_accuracy: 0.3586\n",
      "Epoch 12/30\n",
      "1563/1563 [==============================] - 7s 5ms/step - loss: 2.2570 - accuracy: 0.4096 - val_loss: 2.5738 - val_accuracy: 0.3601\n",
      "Epoch 13/30\n",
      "1563/1563 [==============================] - 7s 5ms/step - loss: 2.2030 - accuracy: 0.4205 - val_loss: 2.5977 - val_accuracy: 0.3526\n",
      "Epoch 14/30\n",
      "1563/1563 [==============================] - 7s 5ms/step - loss: 2.1526 - accuracy: 0.4335 - val_loss: 2.5754 - val_accuracy: 0.3542\n",
      "Epoch 15/30\n",
      "1563/1563 [==============================] - 7s 5ms/step - loss: 2.1090 - accuracy: 0.4386 - val_loss: 2.6241 - val_accuracy: 0.3495\n",
      "Epoch 16/30\n",
      "1563/1563 [==============================] - 7s 5ms/step - loss: 2.0723 - accuracy: 0.4473 - val_loss: 2.5844 - val_accuracy: 0.3615\n",
      "Epoch 17/30\n",
      "1563/1563 [==============================] - 7s 5ms/step - loss: 2.0285 - accuracy: 0.4565 - val_loss: 2.6001 - val_accuracy: 0.3592\n",
      "Epoch 18/30\n",
      "1563/1563 [==============================] - 7s 5ms/step - loss: 1.9929 - accuracy: 0.4649 - val_loss: 2.6223 - val_accuracy: 0.3573\n",
      "Epoch 19/30\n",
      "1563/1563 [==============================] - 7s 5ms/step - loss: 1.9605 - accuracy: 0.4731 - val_loss: 2.6306 - val_accuracy: 0.3591\n",
      "Epoch 20/30\n",
      "1563/1563 [==============================] - 7s 5ms/step - loss: 1.9264 - accuracy: 0.4798 - val_loss: 2.6662 - val_accuracy: 0.3514\n",
      "Epoch 21/30\n",
      "1563/1563 [==============================] - 7s 5ms/step - loss: 1.9002 - accuracy: 0.4827 - val_loss: 2.6614 - val_accuracy: 0.3478\n",
      "Epoch 22/30\n",
      "1563/1563 [==============================] - 7s 5ms/step - loss: 1.8686 - accuracy: 0.4919 - val_loss: 2.6889 - val_accuracy: 0.3503\n",
      "Epoch 23/30\n",
      "1563/1563 [==============================] - 7s 5ms/step - loss: 1.8401 - accuracy: 0.4988 - val_loss: 2.7387 - val_accuracy: 0.3438\n",
      "Epoch 24/30\n",
      "1563/1563 [==============================] - 8s 5ms/step - loss: 1.8060 - accuracy: 0.5059 - val_loss: 2.7375 - val_accuracy: 0.3528\n",
      "Epoch 25/30\n",
      "1563/1563 [==============================] - 7s 5ms/step - loss: 1.7756 - accuracy: 0.5103 - val_loss: 2.7810 - val_accuracy: 0.3433\n",
      "Epoch 26/30\n",
      "1563/1563 [==============================] - 7s 5ms/step - loss: 1.7515 - accuracy: 0.5166 - val_loss: 2.8074 - val_accuracy: 0.3432\n",
      "Epoch 27/30\n",
      "1563/1563 [==============================] - 7s 5ms/step - loss: 1.7249 - accuracy: 0.5222 - val_loss: 2.7950 - val_accuracy: 0.3481\n",
      "Epoch 28/30\n",
      "1563/1563 [==============================] - 7s 5ms/step - loss: 1.6942 - accuracy: 0.5285 - val_loss: 2.9064 - val_accuracy: 0.3418\n",
      "Epoch 29/30\n",
      "1563/1563 [==============================] - 7s 5ms/step - loss: 1.6792 - accuracy: 0.5313 - val_loss: 2.9194 - val_accuracy: 0.3467\n",
      "Epoch 30/30\n",
      "1563/1563 [==============================] - 7s 5ms/step - loss: 1.6545 - accuracy: 0.5406 - val_loss: 2.8984 - val_accuracy: 0.3416\n"
     ]
    }
   ],
   "source": [
    "model.compile(optimizer='adam',\n",
    "              loss=tf.keras.losses.SparseCategoricalCrossentropy(from_logits=True),\n",
    "              metrics=['accuracy'])\n",
    "\n",
    "history = model.fit(train_images, train_labels, epochs=30, \n",
    "                    validation_data=(test_images, test_labels))"
   ]
  },
  {
   "cell_type": "markdown",
   "metadata": {},
   "source": [
    "More obvious after ploting them out."
   ]
  },
  {
   "cell_type": "code",
   "execution_count": 6,
   "metadata": {},
   "outputs": [
    {
     "data": {
      "text/plain": [
       "<matplotlib.legend.Legend at 0x19d0c521fa0>"
      ]
     },
     "execution_count": 6,
     "metadata": {},
     "output_type": "execute_result"
    },
    {
     "data": {
      "image/png": "[encoded data removed]",
      "text/plain": [
       "<Figure size 432x288 with 1 Axes>"
      ]
     },
     "metadata": {
      "needs_background": "light"
     },
     "output_type": "display_data"
    }
   ],
   "source": [
    "plt.plot(history.history['accuracy'], label='training set accuracy')\n",
    "plt.plot(history.history['val_accuracy'], label = 'test set accuracy')\n",
    "plt.xlabel('Epoch')\n",
    "plt.ylabel('Accuracy')\n",
    "plt.ylim([0, 1])\n",
    "plt.legend(loc='lower right')"
   ]
  },
  {
   "cell_type": "code",
   "execution_count": null,
   "metadata": {},
   "outputs": [],
   "source": []
  }
 ],
 "metadata": {
  "kernelspec": {
   "display_name": "tensorflow",
   "language": "python",
   "name": "tensorflow"
  },
  "language_info": {
   "codemirror_mode": {
    "name": "ipython",
    "version": 3
   },
   "file_extension": ".py",
   "mimetype": "text/x-python",
   "name": "python",
   "nbconvert_exporter": "python",
   "pygments_lexer": "ipython3",
   "version": "3.9.12"
  }
 },
 "nbformat": 4,
 "nbformat_minor": 2
}
